{
 "cells": [
  {
   "cell_type": "markdown",
   "metadata": {},
   "source": [
    "# 11장\n",
    "### 11-1, 11-3\n",
    "----\n",
    "\n",
    "### Optimizer, Activation, Initializer를 조합하여 모델을 만들고 평가해 봅니다.\n",
    "\n",
    "* 수렴이 언제부터 시작되나요? \n",
    "\n",
    "* 모델의 성능은 어떤가요?\n",
    "\n",
    "* 전체 훈련 속도는 몇인가요? \n",
    "\n",
    "----"
   ]
  },
  {
   "cell_type": "markdown",
   "metadata": {},
   "source": [
    "# [ 0 ] \n",
    "\n",
    "* CIFAR10 데이터셋을 불러오세요. keras.datasets.cifar10.load_ data()를 사용하여 데이터를 적재할 수 있습니다.\n",
    "* 데이터셋의 차원을 확인해봅시다.\n",
    "* Dense layer을 사용하기 때문에 데이터의 shape을 1차원으로 바꿔야 합니다. ( np.reshape(데이터, (바꿀shape) ) 사용)"
   ]
  },
  {
   "cell_type": "code",
   "execution_count": 4,
   "metadata": {},
   "outputs": [],
   "source": [
    "import tensorflow as tf\n",
    "import numpy as np"
   ]
  },
  {
   "cell_type": "code",
   "execution_count": null,
   "metadata": {},
   "outputs": [],
   "source": [
    "# load\n",
    "(x_train, y_train), (x_test, y_test) = \n",
    "\n",
    "\n"
   ]
  },
  {
   "cell_type": "code",
   "execution_count": 9,
   "metadata": {},
   "outputs": [],
   "source": [
    "# reshape\n",
    "\n",
    "\n",
    " \n",
    "    "
   ]
  },
  {
   "cell_type": "code",
   "execution_count": 1,
   "metadata": {},
   "outputs": [],
   "source": [
    "# normalization\n",
    "\n",
    "pixel_means = x_train.mean(axis=0, keepdims=True)\n",
    "pixel_stds = x_train.std(axis=0, keepdims=True)\n",
    "x_train_scaled = (x_train - pixel_means) / pixel_stds\n",
    "x_test_scaled = (x_test - pixel_means) / pixel_stds\n"
   ]
  },
  {
   "cell_type": "markdown",
   "metadata": {},
   "source": [
    "----\n",
    "# [ 1 ]\n",
    "\n",
    "* **100**개의 뉴런을 가진 **은닉층** **20개**를 쌓아 심층 신경망을 만듭니다.\n",
    "* 모든 은닉층의 initializer는 **He 초기화**를, 활성화 함수는 **Relu** 함수를 사용합니다.\n",
    "* 출력층은 **10개**의 뉴런과 **소프트맥스 활성화** 함수를 사용합니다. \n",
    "* 출력층에서는 Initializer를 사용하지 않습니다. "
   ]
  },
  {
   "cell_type": "code",
   "execution_count": 47,
   "metadata": {},
   "outputs": [],
   "source": [
    "def make_model_1():\n",
    "    model = tf.keras.models.Sequential()\n",
    "    model.add(tf.keras.layers.InputLayer((32*32*3)))\n",
    "\n",
    "    for _ in range(20):\n",
    "        model.add(tf.keras.layers.Dense(100, activation=\"relu\", kernel_initializer='he_normal'))  \n",
    "    model.add(tf.keras.layers.Dense(10, activation=\"softmax\"))\n",
    "    return model"
   ]
  },
  {
   "cell_type": "markdown",
   "metadata": {},
   "source": [
    "## 1-1 )\n",
    "\n",
    "* 옵티마이저는 **Adam**를 사용합니다. \n",
    "* 모델 저장 이름은 **1-1_model.h5** 로 합니다."
   ]
  },
  {
   "cell_type": "code",
   "execution_count": 56,
   "metadata": {},
   "outputs": [
    {
     "name": "stdout",
     "output_type": "stream",
     "text": [
      "Train on 40000 samples, validate on 10000 samples\n",
      "Epoch 1/10\n",
      "40000/40000 [==============================] - 8s 192us/sample - loss: 2.9660 - accuracy: 0.1722 - val_loss: 2.0626 - val_accuracy: 0.2099\n",
      "Epoch 2/10\n",
      "40000/40000 [==============================] - 7s 177us/sample - loss: 2.0256 - accuracy: 0.2251 - val_loss: 2.1136 - val_accuracy: 0.2248\n",
      "Epoch 3/10\n",
      "40000/40000 [==============================] - 7s 180us/sample - loss: 1.9928 - accuracy: 0.2401 - val_loss: 2.0383 - val_accuracy: 0.2023\n",
      "Epoch 4/10\n",
      "40000/40000 [==============================] - 7s 177us/sample - loss: 1.9506 - accuracy: 0.2549 - val_loss: 1.9648 - val_accuracy: 0.2638\n",
      "Epoch 5/10\n",
      "40000/40000 [==============================] - 7s 167us/sample - loss: 1.9229 - accuracy: 0.2660 - val_loss: 1.9321 - val_accuracy: 0.2682\n",
      "Epoch 6/10\n",
      "40000/40000 [==============================] - 7s 183us/sample - loss: 1.8934 - accuracy: 0.2894 - val_loss: 1.8768 - val_accuracy: 0.3054\n",
      "Epoch 7/10\n",
      "40000/40000 [==============================] - 7s 179us/sample - loss: 1.8733 - accuracy: 0.3011 - val_loss: 1.8704 - val_accuracy: 0.3010\n",
      "Epoch 8/10\n",
      "40000/40000 [==============================] - 7s 177us/sample - loss: 1.8582 - accuracy: 0.3064 - val_loss: 1.8450 - val_accuracy: 0.3129\n",
      "Epoch 9/10\n",
      "40000/40000 [==============================] - 7s 183us/sample - loss: 1.8281 - accuracy: 0.3196 - val_loss: 1.8504 - val_accuracy: 0.2995\n",
      "Epoch 10/10\n",
      "40000/40000 [==============================] - 7s 180us/sample - loss: 1.8065 - accuracy: 0.3291 - val_loss: 1.8301 - val_accuracy: 0.3249\n"
     ]
    },
    {
     "data": {
      "text/plain": [
       "<tensorflow.python.keras.callbacks.History at 0x1546cf950>"
      ]
     },
     "execution_count": 56,
     "metadata": {},
     "output_type": "execute_result"
    }
   ],
   "source": [
    "#모델 생성\n",
    "model=make_model_1()\n",
    "\n",
    "# 모델 컴파일\n",
    "model.compile(loss=\"sparse_categorical_crossentropy\",\n",
    "              optimizer=tf.keras.optimizers.Adam(beta_1=0.9, beta_2=0.999),\n",
    "              metrics=[\"accuracy\"])\n",
    "\n",
    "# 콜백 선언\n",
    "model_checkpoint_cb = tf.keras.callbacks.ModelCheckpoint(\"1-1_model.h5\", save_best_only=True)\n",
    "\n",
    "# 모델 훈련\n",
    "model.fit(x_train, y_train, \n",
    "          validation_split=0.2,\n",
    "          epochs=20,\n",
    "          callbacks=[model_checkpoint_cb])"
   ]
  },
  {
   "cell_type": "markdown",
   "metadata": {},
   "source": [
    "## 1-2 )\n",
    "\n",
    "* 옵티마이저는 **Adam**을 사용합니다. Adam의 파라미터 **beta1**, **beta2**를 0.9, 0.999로 초기화 합니다. \n",
    "* 콜백 ModelCheckpoint의 저장 이름을 **1-2_model.h5**로 바꿉니다."
   ]
  },
  {
   "cell_type": "code",
   "execution_count": 58,
   "metadata": {},
   "outputs": [],
   "source": [
    "# 모델 생성\n",
    "\n",
    "\n",
    "# 모델 컴파일\n",
    "\n",
    "\n",
    "# 콜백 선언\n",
    "\n",
    "\n",
    "# 모델 훈련\n",
    "\n"
   ]
  },
  {
   "cell_type": "markdown",
   "metadata": {},
   "source": [
    "----\n",
    "# [ 2 ]\n",
    "\n",
    "* **100**개의 뉴런을 가진 **은닉층** **20개**를 쌓아 심층 신경망을 만듭니다.\n",
    "* 모든 은닉층의 initializer는 **He 초기화**를, 활성화 함수는 **Elu** 함수를 사용합니다.\n",
    "* 출력층은 **10개**의 뉴런과 **소프트맥스 활성화** 함수를 사용합니다. \n",
    "* 출력층에서는 **initializer**를 사용하지 않습니다. "
   ]
  },
  {
   "cell_type": "code",
   "execution_count": null,
   "metadata": {},
   "outputs": [],
   "source": [
    "def make_model_2():\n",
    "\n",
    "    \n",
    "    \n",
    "    \n",
    "    \n",
    "    \n",
    "    return model"
   ]
  },
  {
   "cell_type": "markdown",
   "metadata": {},
   "source": [
    "## 2-1 )\n",
    "\n",
    "* 옵티마이저는 **Adam**을 사용합니다. Adam의 파라미터 **beta1**, **beta2**를 0.9, 0.999로 초기화 합니다. \n",
    "* 콜백 ModelCheckpoint의 저장 이름을 **2-1_model.h5**로 바꿉니다."
   ]
  },
  {
   "cell_type": "code",
   "execution_count": 59,
   "metadata": {},
   "outputs": [],
   "source": [
    "# 모델 생성\n",
    "\n",
    "\n",
    "# 모델 컴파일\n",
    "\n",
    "\n",
    "# 콜백 선언\n",
    "\n",
    "\n",
    "# 모델 훈련\n",
    "\n"
   ]
  },
  {
   "cell_type": "markdown",
   "metadata": {},
   "source": [
    "## 2-2 )\n",
    "\n",
    "* 옵티마이저는 **Nadam**을 사용합니다. Ndam의 학습률을 **5e-5** 로 초기화합니다\n",
    "* 콜백 ModelCheckpoint의 저장 이름을 **2-2_model.h5**로 바꿉니다."
   ]
  },
  {
   "cell_type": "code",
   "execution_count": 60,
   "metadata": {},
   "outputs": [],
   "source": [
    "# 모델 생성\n",
    "\n",
    "\n",
    "# 모델 컴파일\n",
    "\n",
    "\n",
    "# 콜백 선언\n",
    "\n",
    "\n",
    "# 모델 훈련\n",
    "\n"
   ]
  },
  {
   "cell_type": "markdown",
   "metadata": {},
   "source": [
    "----\n",
    "# [  3 ] \n",
    "\n",
    "* **100**개의 뉴런을 가진 **은닉층** **20개**를 쌓아 심층 신경망을 만듭니다.\n",
    "* 모든 은닉층의 initializer는 **He 초기화**를, 활성화 함수는 **Elu** 함수를 사용합니다.\n",
    "* 모든 은닉층의 다음층에서 BatchNormaliztion을 수행합니다. \n",
    "* 출력층은 **10개**의 뉴런과 **소프트맥스 활성화** 함수를 사용합니다. \n",
    "* 출력층에서는 **initializer**를 사용하지 않습니다. \n",
    "* 출력층 다음층에서는 BatchNormalization을 수행하지 않습니다."
   ]
  },
  {
   "cell_type": "code",
   "execution_count": 62,
   "metadata": {},
   "outputs": [],
   "source": [
    "def make_model_3():\n",
    "\n",
    "    \n",
    "    \n",
    "    \n",
    "    \n",
    "    \n",
    "    return model"
   ]
  },
  {
   "cell_type": "markdown",
   "metadata": {},
   "source": [
    "* 옵티마이저는 **Nadam**을 사용합니다. Ndam의 학습률을 **5e-5** 로 초기화합니다\n",
    "* 콜백 ModelCheckpoint의 저장 이름을 **3_model.h5**로 바꿉니다."
   ]
  },
  {
   "cell_type": "code",
   "execution_count": null,
   "metadata": {},
   "outputs": [],
   "source": [
    "# 모델 생성\n",
    "\n",
    "\n",
    "# 모델 컴파일\n",
    "\n",
    "\n",
    "# 콜백 선언\n",
    "\n",
    "\n",
    "# 모델 훈련\n"
   ]
  },
  {
   "cell_type": "markdown",
   "metadata": {},
   "source": [
    "----\n",
    "# [  4 ] \n",
    "\n",
    "* **100**개의 뉴런을 가진 **은닉층** **20개**를 쌓아 심층 신경망을 만듭니다.\n",
    "* 모든 은닉층의 initializer는 **르쿤 초기화**를, 활성화 함수는 **Selu** 함수를 사용합니다.\n",
    "* 출력층은 **10개**의 뉴런과 **소프트맥스 활성화** 함수를 사용합니다. \n",
    "* 출력층에서는 **initializer**를 사용하지 않습니다."
   ]
  },
  {
   "cell_type": "code",
   "execution_count": null,
   "metadata": {},
   "outputs": [],
   "source": [
    "def make_model_4():\n",
    "\n",
    "    \n",
    "    \n",
    "    \n",
    "    \n",
    "    \n",
    "    \n",
    "    return model"
   ]
  },
  {
   "cell_type": "markdown",
   "metadata": {},
   "source": [
    "* 옵티마이저는 **Nadam**을 사용합니다. Ndam의 학습률을 **5e-5** 로 초기화합니다\n",
    "* 콜백 ModelCheckpoint의 저장 이름을 **4_model.h5**로 바꿉니다."
   ]
  },
  {
   "cell_type": "code",
   "execution_count": 66,
   "metadata": {},
   "outputs": [],
   "source": [
    "# 모델 생성\n",
    "\n",
    "\n",
    "# 모델 컴파일\n",
    "\n",
    "\n",
    "# 콜백 선언\n",
    "\n",
    "\n",
    "# 모델 훈련\n",
    "\n"
   ]
  },
  {
   "cell_type": "markdown",
   "metadata": {},
   "source": [
    "## [ 5 ]\n",
    "\n",
    "* 지금까지 만든 6가지 모델을 불러오고 평가해 봅니다.\n",
    "* **tf.keras.models.load_model( )**을 통해 모델을 불러올 수 있습니다.\n",
    "* **model.evaluate( )**를 통해 모든 모델을 평가해 봅니다.\n",
    "* 불러오기 전에 아래 셀에서 각 모델의 특징을 간단히 메모하세요"
   ]
  },
  {
   "cell_type": "markdown",
   "metadata": {},
   "source": [
    "* model_11:\n",
    "* model_12:\n",
    "* model_21:\n",
    "* model_22:\n",
    "* model_3:\n",
    "* model_4:"
   ]
  },
  {
   "cell_type": "code",
   "execution_count": 68,
   "metadata": {},
   "outputs": [],
   "source": [
    "# 모델 불러오기\n",
    "\n",
    "\n",
    "\n",
    "\n",
    "\n"
   ]
  },
  {
   "cell_type": "code",
   "execution_count": null,
   "metadata": {},
   "outputs": [],
   "source": [
    "# 모델 평가\n",
    "\n",
    "\n",
    "\n",
    "\n",
    "\n"
   ]
  }
 ],
 "metadata": {
  "kernelspec": {
   "display_name": "Python 3",
   "language": "python",
   "name": "python3"
  },
  "language_info": {
   "codemirror_mode": {
    "name": "ipython",
    "version": 3
   },
   "file_extension": ".py",
   "mimetype": "text/x-python",
   "name": "python",
   "nbconvert_exporter": "python",
   "pygments_lexer": "ipython3",
   "version": "3.7.4"
  }
 },
 "nbformat": 4,
 "nbformat_minor": 4
}
